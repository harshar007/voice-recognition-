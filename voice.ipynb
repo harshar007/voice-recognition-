{
 "cells": [
  {
   "cell_type": "code",
   "execution_count": 2,
   "id": "7aad4bef",
   "metadata": {},
   "outputs": [],
   "source": [
    "import os\n",
    "import numpy as np\n",
    "import numpy as np\n",
    "import librosa\n",
    "import soundfile\n",
    "\n",
    "\n"
   ]
  },
  {
   "cell_type": "code",
   "execution_count": 3,
   "id": "c38287d1",
   "metadata": {},
   "outputs": [],
   "source": [
    "emotions = {\n",
    "    '01': 'neutral',\n",
    "    '02': 'calm',\n",
    "    '03': 'happy',\n",
    "    '04': 'sad',\n",
    "    '05': 'angry',\n",
    "    '06': 'fearful',\n",
    "    '07': 'disgust',\n",
    "    '08': 'surprised'\n",
    "}\n"
   ]
  },
  {
   "cell_type": "code",
   "execution_count": 4,
   "id": "dcfdbca1",
   "metadata": {},
   "outputs": [],
   "source": [
    "def extract_features(file_name):\n",
    "    import soundfile\n",
    "    import librosa\n",
    "    with soundfile.SoundFile(file_name) as sound_file:\n",
    "        audio_data = sound_file.read(dtype=\"float32\")\n",
    "        sample_rate = sound_file.samplerate\n",
    "        mfccs = librosa.feature.mfcc(y=audio_data, sr=sample_rate, n_mfcc=40)\n",
    "        chroma = librosa.feature.chroma_stft(y=audio_data, sr=sample_rate)\n",
    "        mel = librosa.feature.melspectrogram(y=audio_data, sr=sample_rate)\n",
    "        return np.hstack((\n",
    "            np.mean(mfccs.T, axis=0),\n",
    "            np.mean(chroma.T, axis=0),\n",
    "            np.mean(mel.T, axis=0)\n",
    "        ))"
   ]
  },
  {
   "cell_type": "code",
   "execution_count": 5,
   "id": "ceef4f54",
   "metadata": {},
   "outputs": [],
   "source": [
    "def load_data(dataset_path):\n",
    "    x, y = [], []\n",
    "    count = 0\n",
    "    for root, dirs, files in os.walk(dataset_path):\n",
    "        for file in files:\n",
    "            if file.endswith(\".wav\"):\n",
    "                try:\n",
    "                    emotion_code = file.split(\"-\")[2]\n",
    "                    emotion = emotions.get(emotion_code)\n",
    "                    if emotion:\n",
    "                        file_path = os.path.join(root, file)\n",
    "                        print(\"Processing:\", file_path)\n",
    "                        features = extract_features(file_path)\n",
    "                        x.append(features)\n",
    "                        y.append(emotion)\n",
    "                        count += 1\n",
    "                except Exception as e:\n",
    "                    print(\"Error in\", file, \":\", e)\n",
    "    print(f\"✅ Total processed files: {count}\")\n",
    "    return np.array(x), np.array(y)"
   ]
  },
  {
   "cell_type": "code",
   "execution_count": null,
   "id": "2c50f7b6",
   "metadata": {},
   "outputs": [
    {
     "name": "stdout",
     "output_type": "stream",
     "text": [
      "Processing: wav\\Actor_01\\03-01-01-01-01-01-01.wav\n"
     ]
    }
   ],
   "source": [
    "X, Y = load_data(\"wav\")  \n",
    "print(\"X shape:\", X.shape)\n",
    "print(\"Y shape:\", Y.shape)\n"
   ]
  },
  {
   "cell_type": "code",
   "execution_count": null,
   "id": "1295af18",
   "metadata": {},
   "outputs": [
    {
     "name": "stdout",
     "output_type": "stream",
     "text": [
      "Training shape: (1529, 180) (1529,)\n",
      "Testing shape: (383, 180) (383,)\n"
     ]
    }
   ],
   "source": [
    "from sklearn.model_selection import train_test_split\n",
    "from sklearn.preprocessing import LabelEncoder\n",
    "\n",
    "# Encode emotions to numbers\n",
    "label_encoder = LabelEncoder()\n",
    "y_encoded = label_encoder.fit_transform(Y)\n",
    "\n",
    "# Split into 80% train, 20% test\n",
    "X_train, X_test, y_train, y_test = train_test_split(X, y_encoded, test_size=0.2, random_state=42)\n",
    "\n",
    "print(\"Training shape:\", X_train.shape, y_train.shape)\n",
    "print(\"Testing shape:\", X_test.shape, y_test.shape)\n"
   ]
  },
  {
   "cell_type": "code",
   "execution_count": null,
   "id": "df747038",
   "metadata": {},
   "outputs": [],
   "source": [
    "from sklearn.svm import SVC\n",
    "from sklearn.metrics import accuracy_score, classification_report\n",
    "\n",
    "# Create & train SVM\n",
    "svm_model = SVC(kernel='linear', C=1.0)\n",
    "svm_model.fit(X_train, y_train)\n",
    "\n",
    "# Predict\n",
    "y_pred = svm_model.predict(X_test)\n"
   ]
  },
  {
   "cell_type": "code",
   "execution_count": null,
   "id": "2d531cf8",
   "metadata": {},
   "outputs": [],
   "source": [
    "from sklearn.svm import SVC\n",
    "from sklearn.metrics import accuracy_score, classification_report\n",
    "\n",
    "# Create & train SVM\n",
    "svm_model = SVC(kernel='linear', C=1.0)\n",
    "svm_model.fit(X_train, y_train)\n",
    "\n",
    "# Predict\n",
    "y_pred = svm_model.predict(X_test)\n"
   ]
  },
  {
   "cell_type": "code",
   "execution_count": null,
   "id": "eabf82e9",
   "metadata": {},
   "outputs": [
    {
     "name": "stdout",
     "output_type": "stream",
     "text": [
      "✅ Accuracy: 61.10%\n",
      "\n",
      "📋 Classification Report:\n",
      "              precision    recall  f1-score   support\n",
      "\n",
      "       angry       0.69      0.76      0.72        45\n",
      "        calm       0.69      0.76      0.72        55\n",
      "     disgust       0.58      0.65      0.61        51\n",
      "     fearful       0.58      0.60      0.59        53\n",
      "       happy       0.67      0.56      0.61        52\n",
      "     neutral       0.39      0.41      0.40        22\n",
      "         sad       0.56      0.53      0.55        45\n",
      "   surprised       0.60      0.52      0.55        60\n",
      "\n",
      "    accuracy                           0.61       383\n",
      "   macro avg       0.60      0.60      0.60       383\n",
      "weighted avg       0.61      0.61      0.61       383\n",
      "\n"
     ]
    }
   ],
   "source": [
    "# Accuracy\n",
    "accuracy = accuracy_score(y_test, y_pred)\n",
    "print(\"✅ Accuracy: {:.2f}%\".format(accuracy * 100))\n",
    "\n",
    "# Detailed report\n",
    "print(\"\\n📋 Classification Report:\")\n",
    "print(classification_report(y_test, y_pred, target_names=label_encoder.classes_))\n"
   ]
  },
  {
   "cell_type": "code",
   "execution_count": null,
   "id": "7c6ef85e",
   "metadata": {},
   "outputs": [
    {
     "name": "stdout",
     "output_type": "stream",
     "text": [
      "✅ RF Accuracy: 74.41253263707573\n",
      "\n",
      "📋 Classification Report:\n",
      "              precision    recall  f1-score   support\n",
      "\n",
      "       angry       0.74      0.78      0.76        45\n",
      "        calm       0.72      0.93      0.81        55\n",
      "     disgust       0.66      0.76      0.71        51\n",
      "     fearful       0.79      0.58      0.67        53\n",
      "       happy       0.74      0.71      0.73        52\n",
      "     neutral       1.00      0.77      0.87        22\n",
      "         sad       0.67      0.64      0.66        45\n",
      "   surprised       0.81      0.77      0.79        60\n",
      "\n",
      "    accuracy                           0.74       383\n",
      "   macro avg       0.77      0.74      0.75       383\n",
      "weighted avg       0.75      0.74      0.74       383\n",
      "\n"
     ]
    }
   ],
   "source": [
    "from sklearn.ensemble import RandomForestClassifier\n",
    "\n",
    "rf_model = RandomForestClassifier(n_estimators=100, random_state=42)\n",
    "rf_model.fit(X_train, y_train)\n",
    "\n",
    "y_pred_rf = rf_model.predict(X_test)\n",
    "\n",
    "# Evaluate\n",
    "print(\"✅ RF Accuracy:\", accuracy_score(y_test, y_pred_rf) * 100)\n",
    "print(\"\\n📋 Classification Report:\")\n",
    "print(classification_report(y_test, y_pred_rf, target_names=label_encoder.classes_))\n"
   ]
  },
  {
   "cell_type": "code",
   "execution_count": null,
   "id": "a8497047",
   "metadata": {},
   "outputs": [],
   "source": [
    "import sounddevice as sd\n",
    "from scipy.io.wavfile import write\n",
    "import librosa "
   ]
  },
  {
   "cell_type": "code",
   "execution_count": null,
   "id": "8c770f12",
   "metadata": {},
   "outputs": [],
   "source": [
    "def record_audio(filename, duration=5, sample_rate=22050, fs=44100):\n",
    "    print(f\"Recording {duration} seconds of audio...\")\n",
    "    recording = sd.rec(int(duration * fs), samplerate=fs, channels=1)\n",
    "    sd.wait()  # wait until recording is finished\n",
    "    write(filename, fs, recording)\n",
    "    print(f\"Audio recorded and saved as {filename}\")\n",
    "\n",
    "def predict_emotion(filename, model):\n",
    "    data, sample_rate = librosa.load(filename)\n",
    "    mfccs = librosa.feature.mfcc(y=data, sr=sample_rate, n_mfcc=40)\n",
    "    chroma = librosa.feature.chroma_stft(y=data, sr=sample_rate)\n",
    "    mel = librosa.feature.melspectrogram(y=data, sr=sample_rate)\n",
    "    features = np.hstack((\n",
    "        np.mean(mfccs.T, axis=0),\n",
    "        np.mean(chroma.T, axis=0),\n",
    "        np.mean(mel.T, axis=0)\n",
    "    )).reshape(1, -1)\n",
    "\n",
    "    features_scaled = scaler.transform(features)\n",
    "    prediction = model.predict(features_scaled)\n",
    "    emotion = label_encoder.inverse_transform(prediction)[0]\n",
    "    print(\"🧠 Predicted Emotion:\", emotion)"
   ]
  },
  {
   "cell_type": "code",
   "execution_count": null,
   "id": "2cda2c96",
   "metadata": {},
   "outputs": [],
   "source": [
    "import sounddevice as sd\n",
    "from scipy.io.wavfile import write\n",
    "\n",
    "def record_voice(filename=\"test.wav\", duration=5, fs=44100):\n",
    "    print(\"🎙️ Recording for\", duration, \"seconds...\")\n",
    "    recording = sd.rec(int(duration * fs), samplerate=fs, channels=1)\n",
    "    sd.wait()\n",
    "    write(filename, fs, recording)\n",
    "    print(\"✅ Audio saved to\", filename)\n"
   ]
  },
  {
   "cell_type": "code",
   "execution_count": null,
   "id": "c5848c77",
   "metadata": {},
   "outputs": [],
   "source": [
    "def predict_emotion_from_file(filename, model):\n",
    "    import librosa\n",
    "\n",
    "    data, sample_rate = librosa.load(filename)\n",
    "    mfccs = librosa.feature.mfcc(y=data, sr=sample_rate, n_mfcc=40)\n",
    "    chroma = librosa.feature.chroma_stft(y=data, sr=sample_rate)\n",
    "    mel = librosa.feature.melspectrogram(y=data, sr=sample_rate)\n",
    "    \n",
    "    features = np.hstack((\n",
    "        np.mean(mfccs.T, axis=0),\n",
    "        np.mean(chroma.T, axis=0),\n",
    "        np.mean(mel.T, axis=0)\n",
    "    )).reshape(1, -1)\n",
    "\n",
    "\n",
    "    features_scaled = scaler.transform(features)\n",
    "\n",
    "\n",
    "    prediction = model.predict(features_scaled)\n",
    "    emotion = label_encoder.inverse_transform(prediction)[0]\n",
    "    print(\"🧠 Predicted Emotion:\", emotion)\n",
    "\n"
   ]
  },
  {
   "cell_type": "code",
   "execution_count": null,
   "id": "2793d5c5",
   "metadata": {},
   "outputs": [
    {
     "ename": "NameError",
     "evalue": "name 'record_voice' is not defined",
     "output_type": "error",
     "traceback": [
      "\u001b[31m---------------------------------------------------------------------------\u001b[39m",
      "\u001b[31mNameError\u001b[39m                                 Traceback (most recent call last)",
      "\u001b[36mCell\u001b[39m\u001b[36m \u001b[39m\u001b[32mIn[1]\u001b[39m\u001b[32m, line 1\u001b[39m\n\u001b[32m----> \u001b[39m\u001b[32m1\u001b[39m \u001b[43mrecord_voice\u001b[49m()  \n\u001b[32m      2\u001b[39m predict_emotion_from_file(\u001b[33m\"\u001b[39m\u001b[33mtest.wav\u001b[39m\u001b[33m\"\u001b[39m, rf_model)  \n",
      "\u001b[31mNameError\u001b[39m: name 'record_voice' is not defined"
     ]
    }
   ],
   "source": [
    "record_voice()  \n",
    "predict_emotion_from_file(\"test.wav\", rf_model)  \n"
   ]
  }
 ],
 "metadata": {
  "kernelspec": {
   "display_name": "Python 3",
   "language": "python",
   "name": "python3"
  },
  "language_info": {
   "codemirror_mode": {
    "name": "ipython",
    "version": 3
   },
   "file_extension": ".py",
   "mimetype": "text/x-python",
   "name": "python",
   "nbconvert_exporter": "python",
   "pygments_lexer": "ipython3",
   "version": "3.11.9"
  }
 },
 "nbformat": 4,
 "nbformat_minor": 5
}
